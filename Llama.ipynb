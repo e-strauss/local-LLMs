{
 "cells": [
  {
   "cell_type": "code",
   "execution_count": null,
   "id": "initial_id",
   "metadata": {
    "collapsed": true
   },
   "outputs": [],
   "source": "import ollama"
  },
  {
   "metadata": {
    "ExecuteTime": {
     "end_time": "2025-03-11T18:54:41.922983Z",
     "start_time": "2025-03-11T18:54:39.701485Z"
    }
   },
   "cell_type": "code",
   "source": [
    "from ollama import chat\n",
    "from ollama import ChatResponse\n",
    "\n",
    "response: ChatResponse = chat(model='deepseek-r1:1.5b', messages=[\n",
    "  {\n",
    "    'role': 'user',\n",
    "    'content': 'Why is the sky blue?',\n",
    "  },\n",
    "])\n",
    "print(response['message']['content'])\n",
    "# or access fields directly from the response object\n",
    "print(response.message.content)"
   ],
   "id": "482356b488cc22ea",
   "outputs": [
    {
     "name": "stdout",
     "output_type": "stream",
     "text": [
      "<think>\n",
      "\n",
      "</think>\n",
      "\n",
      "The color of the sky, also known as the atmospheric scattering effect, arises from the interaction between sunlight and air molecules. When sunlight passes through the Earth's atmosphere, it enters a medium where particles are present, such as nitrogen and oxygen. Sunlight, which consists of many tiny units called photons, travels in straight lines until they encounter these molecules. Due to the short wavelength of light compared to its high frequency, the interaction with air molecules is very rapid. This scattering process causes sunlight to appear as a gradient spectrum instead of white light. Therefore, we see different colors at different altitudes because each layer of the atmosphere scatters longer wavelengths more than shorter ones.\n",
      "\n",
      "In addition to atmospheric effects, the sky also exhibits other color-related phenomena such as complementary colors and spectral colors. For example:\n",
      "- **Complementary Colors**: The colors present on a canvas often seem to have opposite hues when reflected from objects. This effect is due to light reflecting off surfaces instead of transmitting through them.\n",
      "- **Spectral Colors**: Different colors appear because the reflection or transmission spectrum of air particles separates the white light into different components.\n",
      "\n",
      "The phenomenon of light scattering is known as Rayleigh scattering, which is why we observe a blue sky during clear days.\n",
      "<think>\n",
      "\n",
      "</think>\n",
      "\n",
      "The color of the sky, also known as the atmospheric scattering effect, arises from the interaction between sunlight and air molecules. When sunlight passes through the Earth's atmosphere, it enters a medium where particles are present, such as nitrogen and oxygen. Sunlight, which consists of many tiny units called photons, travels in straight lines until they encounter these molecules. Due to the short wavelength of light compared to its high frequency, the interaction with air molecules is very rapid. This scattering process causes sunlight to appear as a gradient spectrum instead of white light. Therefore, we see different colors at different altitudes because each layer of the atmosphere scatters longer wavelengths more than shorter ones.\n",
      "\n",
      "In addition to atmospheric effects, the sky also exhibits other color-related phenomena such as complementary colors and spectral colors. For example:\n",
      "- **Complementary Colors**: The colors present on a canvas often seem to have opposite hues when reflected from objects. This effect is due to light reflecting off surfaces instead of transmitting through them.\n",
      "- **Spectral Colors**: Different colors appear because the reflection or transmission spectrum of air particles separates the white light into different components.\n",
      "\n",
      "The phenomenon of light scattering is known as Rayleigh scattering, which is why we observe a blue sky during clear days.\n"
     ]
    }
   ],
   "execution_count": 2
  },
  {
   "metadata": {
    "ExecuteTime": {
     "end_time": "2025-03-11T19:15:06.567404Z",
     "start_time": "2025-03-11T19:15:06.564601Z"
    }
   },
   "cell_type": "code",
   "source": "text = \"John Doe, a 34-year-old software engineer from Springfield, IL, recently purchased a one-year web hosting plan along with a domain registration and an SSL certificate for his new online portfolio. Using his Visa card ending in 3456, he made a payment of $233.79 on March 11, 2025. The invoice, numbered INV-2025-00458, was issued by WebServices Inc., confirming the transaction. John received a confirmation email at johndoe@example.com and was advised that his services would be active until March 2026. If he has any concerns, he can contact customer support at (800) 555-0199.\"",
   "id": "cc95932bc4469fe7",
   "outputs": [],
   "execution_count": 10
  },
  {
   "metadata": {
    "ExecuteTime": {
     "end_time": "2025-03-11T19:18:30.191043Z",
     "start_time": "2025-03-11T19:18:27.241110Z"
    }
   },
   "cell_type": "code",
   "source": [
    "response: ChatResponse = chat(model='granite3.1-dense:2b', messages=[\n",
    "  {\n",
    "    'role': 'user',\n",
    "    'content': 'Find all words with sensitive data from a text I will give you. Just return a JSON dictionary of single words and generic placeholder for each words, so I can replace them in a subsequent operation: ' + text,\n",
    "  },\n",
    "])\n",
    "# or access fields directly from the response object\n",
    "print(response.message.content)"
   ],
   "id": "47f4491d8ef1ebf8",
   "outputs": [
    {
     "name": "stdout",
     "output_type": "stream",
     "text": [
      "Here is the JSON dictionary of sensitive data found in the given text:\n",
      "\n",
      "```json\n",
      "{\n",
      "  \"names\": [\"John Doe\"],\n",
      "  \"age_range\": [34],\n",
      "  \"job_title\": [\"software engineer\"],\n",
      "  \"location\": [\"Springfield, IL\"],\n",
      "  \"card_number_placeholder\": \"3456\",\n",
      "  \"payment_amount\": \"$233.79\",\n",
      "  \"payment_date\": \"2025-03-11\",\n",
      "  \"invoice_number\": \"INV-2025-00458\",\n",
      "  \"company_name\": [\"WebServices Inc.\"],\n",
      "  \"email_address\": \"johndoe@example.com\",\n",
      "  \"service_activation_date\": \"March 2026\",\n",
      "  \"customer_support_phone_number\": \"(800) 555-0199\"\n",
      "}\n",
      "```\n"
     ]
    }
   ],
   "execution_count": 15
  },
  {
   "metadata": {
    "ExecuteTime": {
     "end_time": "2025-03-11T19:19:57.162119Z",
     "start_time": "2025-03-11T19:19:57.124308Z"
    }
   },
   "cell_type": "code",
   "source": [
    "response: ChatResponse = chat(model='granite3.1-dense:2b', messages=[\n",
    "  {\n",
    "    'role': 'user',\n",
    "    'content': 'Why is the sky blue?',\n",
    "  },\n",
    "])\n",
    "# or access fields directly from the response object\n",
    "print(response.message.content)"
   ],
   "id": "35f98ce7981961d2",
   "outputs": [
    {
     "ename": "ResponseError",
     "evalue": "model \"granite3.1-dense:2b\" not found, try pulling it first (status code: 404)",
     "output_type": "error",
     "traceback": [
      "\u001B[0;31m---------------------------------------------------------------------------\u001B[0m",
      "\u001B[0;31mResponseError\u001B[0m                             Traceback (most recent call last)",
      "Cell \u001B[0;32mIn[16], line 1\u001B[0m\n\u001B[0;32m----> 1\u001B[0m response: ChatResponse \u001B[38;5;241m=\u001B[39m \u001B[43mchat\u001B[49m\u001B[43m(\u001B[49m\u001B[43mmodel\u001B[49m\u001B[38;5;241;43m=\u001B[39;49m\u001B[38;5;124;43m'\u001B[39;49m\u001B[38;5;124;43mgranite3.1-dense:2b\u001B[39;49m\u001B[38;5;124;43m'\u001B[39;49m\u001B[43m,\u001B[49m\u001B[43m \u001B[49m\u001B[43mmessages\u001B[49m\u001B[38;5;241;43m=\u001B[39;49m\u001B[43m[\u001B[49m\n\u001B[1;32m      2\u001B[0m \u001B[43m  \u001B[49m\u001B[43m{\u001B[49m\n\u001B[1;32m      3\u001B[0m \u001B[43m    \u001B[49m\u001B[38;5;124;43m'\u001B[39;49m\u001B[38;5;124;43mrole\u001B[39;49m\u001B[38;5;124;43m'\u001B[39;49m\u001B[43m:\u001B[49m\u001B[43m \u001B[49m\u001B[38;5;124;43m'\u001B[39;49m\u001B[38;5;124;43muser\u001B[39;49m\u001B[38;5;124;43m'\u001B[39;49m\u001B[43m,\u001B[49m\n\u001B[1;32m      4\u001B[0m \u001B[43m    \u001B[49m\u001B[38;5;124;43m'\u001B[39;49m\u001B[38;5;124;43mcontent\u001B[39;49m\u001B[38;5;124;43m'\u001B[39;49m\u001B[43m:\u001B[49m\u001B[43m \u001B[49m\u001B[38;5;124;43m'\u001B[39;49m\u001B[38;5;124;43mWhy is the sky blue?\u001B[39;49m\u001B[38;5;124;43m'\u001B[39;49m\u001B[43m,\u001B[49m\n\u001B[1;32m      5\u001B[0m \u001B[43m  \u001B[49m\u001B[43m}\u001B[49m\u001B[43m,\u001B[49m\n\u001B[1;32m      6\u001B[0m \u001B[43m]\u001B[49m\u001B[43m)\u001B[49m\n\u001B[1;32m      7\u001B[0m \u001B[38;5;66;03m# or access fields directly from the response object\u001B[39;00m\n\u001B[1;32m      8\u001B[0m \u001B[38;5;28mprint\u001B[39m(response\u001B[38;5;241m.\u001B[39mmessage\u001B[38;5;241m.\u001B[39mcontent)\n",
      "File \u001B[0;32m~/PycharmProjects/MiniLLM/.venv/lib/python3.10/site-packages/ollama/_client.py:333\u001B[0m, in \u001B[0;36mClient.chat\u001B[0;34m(self, model, messages, tools, stream, format, options, keep_alive)\u001B[0m\n\u001B[1;32m    289\u001B[0m \u001B[38;5;28;01mdef\u001B[39;00m\u001B[38;5;250m \u001B[39m\u001B[38;5;21mchat\u001B[39m(\n\u001B[1;32m    290\u001B[0m   \u001B[38;5;28mself\u001B[39m,\n\u001B[1;32m    291\u001B[0m   model: \u001B[38;5;28mstr\u001B[39m \u001B[38;5;241m=\u001B[39m \u001B[38;5;124m'\u001B[39m\u001B[38;5;124m'\u001B[39m,\n\u001B[0;32m   (...)\u001B[0m\n\u001B[1;32m    298\u001B[0m   keep_alive: Optional[Union[\u001B[38;5;28mfloat\u001B[39m, \u001B[38;5;28mstr\u001B[39m]] \u001B[38;5;241m=\u001B[39m \u001B[38;5;28;01mNone\u001B[39;00m,\n\u001B[1;32m    299\u001B[0m ) \u001B[38;5;241m-\u001B[39m\u001B[38;5;241m>\u001B[39m Union[ChatResponse, Iterator[ChatResponse]]:\n\u001B[1;32m    300\u001B[0m \u001B[38;5;250m  \u001B[39m\u001B[38;5;124;03m\"\"\"\u001B[39;00m\n\u001B[1;32m    301\u001B[0m \u001B[38;5;124;03m  Create a chat response using the requested model.\u001B[39;00m\n\u001B[1;32m    302\u001B[0m \n\u001B[0;32m   (...)\u001B[0m\n\u001B[1;32m    331\u001B[0m \u001B[38;5;124;03m  Returns `ChatResponse` if `stream` is `False`, otherwise returns a `ChatResponse` generator.\u001B[39;00m\n\u001B[1;32m    332\u001B[0m \u001B[38;5;124;03m  \"\"\"\u001B[39;00m\n\u001B[0;32m--> 333\u001B[0m   \u001B[38;5;28;01mreturn\u001B[39;00m \u001B[38;5;28;43mself\u001B[39;49m\u001B[38;5;241;43m.\u001B[39;49m\u001B[43m_request\u001B[49m\u001B[43m(\u001B[49m\n\u001B[1;32m    334\u001B[0m \u001B[43m    \u001B[49m\u001B[43mChatResponse\u001B[49m\u001B[43m,\u001B[49m\n\u001B[1;32m    335\u001B[0m \u001B[43m    \u001B[49m\u001B[38;5;124;43m'\u001B[39;49m\u001B[38;5;124;43mPOST\u001B[39;49m\u001B[38;5;124;43m'\u001B[39;49m\u001B[43m,\u001B[49m\n\u001B[1;32m    336\u001B[0m \u001B[43m    \u001B[49m\u001B[38;5;124;43m'\u001B[39;49m\u001B[38;5;124;43m/api/chat\u001B[39;49m\u001B[38;5;124;43m'\u001B[39;49m\u001B[43m,\u001B[49m\n\u001B[1;32m    337\u001B[0m \u001B[43m    \u001B[49m\u001B[43mjson\u001B[49m\u001B[38;5;241;43m=\u001B[39;49m\u001B[43mChatRequest\u001B[49m\u001B[43m(\u001B[49m\n\u001B[1;32m    338\u001B[0m \u001B[43m      \u001B[49m\u001B[43mmodel\u001B[49m\u001B[38;5;241;43m=\u001B[39;49m\u001B[43mmodel\u001B[49m\u001B[43m,\u001B[49m\n\u001B[1;32m    339\u001B[0m \u001B[43m      \u001B[49m\u001B[43mmessages\u001B[49m\u001B[38;5;241;43m=\u001B[39;49m\u001B[43m[\u001B[49m\u001B[43mmessage\u001B[49m\u001B[43m \u001B[49m\u001B[38;5;28;43;01mfor\u001B[39;49;00m\u001B[43m \u001B[49m\u001B[43mmessage\u001B[49m\u001B[43m \u001B[49m\u001B[38;5;129;43;01min\u001B[39;49;00m\u001B[43m \u001B[49m\u001B[43m_copy_messages\u001B[49m\u001B[43m(\u001B[49m\u001B[43mmessages\u001B[49m\u001B[43m)\u001B[49m\u001B[43m]\u001B[49m\u001B[43m,\u001B[49m\n\u001B[1;32m    340\u001B[0m \u001B[43m      \u001B[49m\u001B[43mtools\u001B[49m\u001B[38;5;241;43m=\u001B[39;49m\u001B[43m[\u001B[49m\u001B[43mtool\u001B[49m\u001B[43m \u001B[49m\u001B[38;5;28;43;01mfor\u001B[39;49;00m\u001B[43m \u001B[49m\u001B[43mtool\u001B[49m\u001B[43m \u001B[49m\u001B[38;5;129;43;01min\u001B[39;49;00m\u001B[43m \u001B[49m\u001B[43m_copy_tools\u001B[49m\u001B[43m(\u001B[49m\u001B[43mtools\u001B[49m\u001B[43m)\u001B[49m\u001B[43m]\u001B[49m\u001B[43m,\u001B[49m\n\u001B[1;32m    341\u001B[0m \u001B[43m      \u001B[49m\u001B[43mstream\u001B[49m\u001B[38;5;241;43m=\u001B[39;49m\u001B[43mstream\u001B[49m\u001B[43m,\u001B[49m\n\u001B[1;32m    342\u001B[0m \u001B[43m      \u001B[49m\u001B[38;5;28;43mformat\u001B[39;49m\u001B[38;5;241;43m=\u001B[39;49m\u001B[38;5;28;43mformat\u001B[39;49m\u001B[43m,\u001B[49m\n\u001B[1;32m    343\u001B[0m \u001B[43m      \u001B[49m\u001B[43moptions\u001B[49m\u001B[38;5;241;43m=\u001B[39;49m\u001B[43moptions\u001B[49m\u001B[43m,\u001B[49m\n\u001B[1;32m    344\u001B[0m \u001B[43m      \u001B[49m\u001B[43mkeep_alive\u001B[49m\u001B[38;5;241;43m=\u001B[39;49m\u001B[43mkeep_alive\u001B[49m\u001B[43m,\u001B[49m\n\u001B[1;32m    345\u001B[0m \u001B[43m    \u001B[49m\u001B[43m)\u001B[49m\u001B[38;5;241;43m.\u001B[39;49m\u001B[43mmodel_dump\u001B[49m\u001B[43m(\u001B[49m\u001B[43mexclude_none\u001B[49m\u001B[38;5;241;43m=\u001B[39;49m\u001B[38;5;28;43;01mTrue\u001B[39;49;00m\u001B[43m)\u001B[49m\u001B[43m,\u001B[49m\n\u001B[1;32m    346\u001B[0m \u001B[43m    \u001B[49m\u001B[43mstream\u001B[49m\u001B[38;5;241;43m=\u001B[39;49m\u001B[43mstream\u001B[49m\u001B[43m,\u001B[49m\n\u001B[1;32m    347\u001B[0m \u001B[43m  \u001B[49m\u001B[43m)\u001B[49m\n",
      "File \u001B[0;32m~/PycharmProjects/MiniLLM/.venv/lib/python3.10/site-packages/ollama/_client.py:178\u001B[0m, in \u001B[0;36mClient._request\u001B[0;34m(self, cls, stream, *args, **kwargs)\u001B[0m\n\u001B[1;32m    174\u001B[0m         \u001B[38;5;28;01myield\u001B[39;00m \u001B[38;5;28mcls\u001B[39m(\u001B[38;5;241m*\u001B[39m\u001B[38;5;241m*\u001B[39mpart)\n\u001B[1;32m    176\u001B[0m   \u001B[38;5;28;01mreturn\u001B[39;00m inner()\n\u001B[0;32m--> 178\u001B[0m \u001B[38;5;28;01mreturn\u001B[39;00m \u001B[38;5;28mcls\u001B[39m(\u001B[38;5;241m*\u001B[39m\u001B[38;5;241m*\u001B[39m\u001B[38;5;28;43mself\u001B[39;49m\u001B[38;5;241;43m.\u001B[39;49m\u001B[43m_request_raw\u001B[49m\u001B[43m(\u001B[49m\u001B[38;5;241;43m*\u001B[39;49m\u001B[43margs\u001B[49m\u001B[43m,\u001B[49m\u001B[43m \u001B[49m\u001B[38;5;241;43m*\u001B[39;49m\u001B[38;5;241;43m*\u001B[39;49m\u001B[43mkwargs\u001B[49m\u001B[43m)\u001B[49m\u001B[38;5;241m.\u001B[39mjson())\n",
      "File \u001B[0;32m~/PycharmProjects/MiniLLM/.venv/lib/python3.10/site-packages/ollama/_client.py:122\u001B[0m, in \u001B[0;36mClient._request_raw\u001B[0;34m(self, *args, **kwargs)\u001B[0m\n\u001B[1;32m    120\u001B[0m   \u001B[38;5;28;01mreturn\u001B[39;00m r\n\u001B[1;32m    121\u001B[0m \u001B[38;5;28;01mexcept\u001B[39;00m httpx\u001B[38;5;241m.\u001B[39mHTTPStatusError \u001B[38;5;28;01mas\u001B[39;00m e:\n\u001B[0;32m--> 122\u001B[0m   \u001B[38;5;28;01mraise\u001B[39;00m ResponseError(e\u001B[38;5;241m.\u001B[39mresponse\u001B[38;5;241m.\u001B[39mtext, e\u001B[38;5;241m.\u001B[39mresponse\u001B[38;5;241m.\u001B[39mstatus_code) \u001B[38;5;28;01mfrom\u001B[39;00m\u001B[38;5;250m \u001B[39m\u001B[38;5;28;01mNone\u001B[39;00m\n\u001B[1;32m    123\u001B[0m \u001B[38;5;28;01mexcept\u001B[39;00m httpx\u001B[38;5;241m.\u001B[39mConnectError:\n\u001B[1;32m    124\u001B[0m   \u001B[38;5;28;01mraise\u001B[39;00m \u001B[38;5;167;01mConnectionError\u001B[39;00m(CONNECTION_ERROR_MESSAGE) \u001B[38;5;28;01mfrom\u001B[39;00m\u001B[38;5;250m \u001B[39m\u001B[38;5;28;01mNone\u001B[39;00m\n",
      "\u001B[0;31mResponseError\u001B[0m: model \"granite3.1-dense:2b\" not found, try pulling it first (status code: 404)"
     ]
    }
   ],
   "execution_count": 16
  },
  {
   "metadata": {},
   "cell_type": "code",
   "outputs": [],
   "execution_count": null,
   "source": "",
   "id": "f4ed12a788cf61ec"
  }
 ],
 "metadata": {
  "kernelspec": {
   "display_name": "Python 3",
   "language": "python",
   "name": "python3"
  },
  "language_info": {
   "codemirror_mode": {
    "name": "ipython",
    "version": 2
   },
   "file_extension": ".py",
   "mimetype": "text/x-python",
   "name": "python",
   "nbconvert_exporter": "python",
   "pygments_lexer": "ipython2",
   "version": "2.7.6"
  }
 },
 "nbformat": 4,
 "nbformat_minor": 5
}
