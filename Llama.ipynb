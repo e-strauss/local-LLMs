{
 "cells": [
  {
   "cell_type": "code",
   "execution_count": 1,
   "id": "initial_id",
   "metadata": {
    "collapsed": true,
    "ExecuteTime": {
     "end_time": "2025-03-11T21:19:58.490908Z",
     "start_time": "2025-03-11T21:19:58.257370Z"
    }
   },
   "outputs": [],
   "source": [
    "from ollama import chat\n",
    "from ollama import ChatResponse"
   ]
  },
  {
   "cell_type": "code",
   "outputs": [],
   "source": [
    "!ollama run deepseek-r1:1.5b"
   ],
   "metadata": {
    "collapsed": false
   },
   "id": "28dada20bfcb3441",
   "execution_count": null
  },
  {
   "cell_type": "code",
   "outputs": [],
   "source": [
    "models = [\"llama3.2\", \"phi4\", \"deepseek-r1:1.5b\", \"phi4-mini\"]\n",
    "model = models[3]"
   ],
   "metadata": {
    "collapsed": false,
    "ExecuteTime": {
     "end_time": "2025-03-11T22:52:23.328311Z",
     "start_time": "2025-03-11T22:52:23.325921Z"
    }
   },
   "id": "9d2556a186a7eb21",
   "execution_count": 69
  },
  {
   "cell_type": "code",
   "outputs": [],
   "source": [
    "sensitive_data_prompt_template = 'Given a text containing sensitive information, return a comma-separated list of the sensitive information, the list should only contain single words, no phrases. This is the text: '"
   ],
   "metadata": {
    "collapsed": false,
    "ExecuteTime": {
     "end_time": "2025-03-11T22:55:17.315482Z",
     "start_time": "2025-03-11T22:55:17.313154Z"
    }
   },
   "id": "131fe35880def80d",
   "execution_count": 70
  },
  {
   "metadata": {
    "ExecuteTime": {
     "end_time": "2025-03-11T22:40:55.443231Z",
     "start_time": "2025-03-11T22:40:55.440637Z"
    }
   },
   "cell_type": "code",
   "source": [
    "text = \"Elias Strauss, a 24-year-old software engineer from Springfield, IL, recently purchased a one-year web hosting plan along with a domain registration and an SSL certificate for his new online portfolio. Using his Visa card ending in 3456, he made a payment of $233.79 on March 11, 2025. The invoice, numbered INV-2025-00458, was issued by WebServices Inc., confirming the transaction. Elias received a confirmation email at elias.strauss@gmail.com and was advised that his services would be active until March 2026. If he has any concerns, he can contact customer support at (800) 555-0199.\""
   ],
   "id": "cc95932bc4469fe7",
   "outputs": [],
   "execution_count": 61
  },
  {
   "cell_type": "code",
   "outputs": [
    {
     "data": {
      "text/plain": "'Given a text containing sensitive information, return a comma-separated list of the sensitive information, the list should only contain single words, no phrases. This is the text: Elias Strauss, a 24-year-old software engineer from Springfield, IL, recently purchased a one-year web hosting plan along with a domain registration and an SSL certificate for his new online portfolio. Using his Visa card ending in 3456, he made a payment of $233.79 on March 11, 2025. The invoice, numbered INV-2025-00458, was issued by WebServices Inc., confirming the transaction. Elias received a confirmation email at elias.strauss@gmail.com and was advised that his services would be active until March 2026. If he has any concerns, he can contact customer support at (800) 555-0199.'"
     },
     "execution_count": 71,
     "metadata": {},
     "output_type": "execute_result"
    }
   ],
   "source": [
    "sensitive_data_prompt = sensitive_data_prompt_template + text\n",
    "sensitive_data_prompt"
   ],
   "metadata": {
    "collapsed": false,
    "ExecuteTime": {
     "end_time": "2025-03-11T22:55:25.434413Z",
     "start_time": "2025-03-11T22:55:25.431092Z"
    }
   },
   "id": "ae8c519110f9dff0",
   "execution_count": 71
  },
  {
   "metadata": {
    "ExecuteTime": {
     "end_time": "2025-03-11T22:56:28.161994Z",
     "start_time": "2025-03-11T22:56:23.432587Z"
    }
   },
   "cell_type": "code",
   "source": [
    "print(model)\n",
    "sensitive_data_response: ChatResponse = chat(model=model, messages=[\n",
    "  {\n",
    "    'role': 'user',\n",
    "    'content': sensitive_data_prompt\n",
    "  },\n",
    "])\n",
    "print(sensitive_data_response.message.content)"
   ],
   "id": "47f4491d8ef1ebf8",
   "outputs": [
    {
     "name": "stdout",
     "output_type": "stream",
     "text": [
      "phi4-mini\n",
      "Elias Strauss, Visa card ending in 3456, $233.79, INV-2025-00458, elias.strauss@gmail.com, WebServices Inc., March 11, 2025, March 2026, (800) 555-0199\n"
     ]
    }
   ],
   "execution_count": 73
  },
  {
   "cell_type": "code",
   "outputs": [
    {
     "data": {
      "text/plain": "'Elias Strauss, Visa card ending in 3456, $233.79, INV-2025-00458, elias.strauss@gmail.com, WebServices Inc., March 11, 2025, March 2026, (800) 555-0199'"
     },
     "execution_count": 74,
     "metadata": {},
     "output_type": "execute_result"
    }
   ],
   "source": [
    "sensitive_data = sensitive_data_response.message.content\n",
    "sensitive_data"
   ],
   "metadata": {
    "collapsed": false,
    "ExecuteTime": {
     "end_time": "2025-03-11T22:56:32.292810Z",
     "start_time": "2025-03-11T22:56:32.289006Z"
    }
   },
   "id": "4c2bd4d32408f48b",
   "execution_count": 74
  },
  {
   "cell_type": "code",
   "outputs": [],
   "source": [
    "place_holder_prompt = \"You get a comma-separated list of attributes and your task is to find a generic, descriptive, short place holder for each element. Return a JSON formatted key-value pairs, where the key is the original element. This is the list: \" + sensitive_data"
   ],
   "metadata": {
    "collapsed": false,
    "ExecuteTime": {
     "end_time": "2025-03-11T23:00:41.762878Z",
     "start_time": "2025-03-11T23:00:41.760160Z"
    }
   },
   "id": "ed89f42342b6eb59",
   "execution_count": 81
  },
  {
   "cell_type": "code",
   "outputs": [
    {
     "name": "stdout",
     "output_type": "stream",
     "text": [
      "```json\n",
      "{\n",
      "    \"Elias Strauss\": \"Owner/Employee\",\n",
      "    \"Visa card ending in 3456\": \"Payment Method/Credit Card Info\",\n",
      "    \"$233.79\": \"Transaction Amount/Price Paid\",\n",
      "    \"INV-2025-00458\": \"Invoice ID/SKU Number\",\n",
      "    \"elias.strauss@gmail.com\": \"Email Address/UserID@Domain.Com\",\n",
      "    \"WebServices Inc.\": \"Company/Organization Name\",\n",
      "    \"March 11, 2025\": \"Date of Event/Event Date\",\n",
      "    \"March 2026\": \"Future Scheduled Date/Future Plan/Schedule\",\n",
      "    \"(800) 555-0199\": \"Phone Number/TelNumber\"\n",
      "}\n",
      "```\n"
     ]
    }
   ],
   "source": [
    "place_holder_response: ChatResponse = chat(model=model, messages=[\n",
    "  {\n",
    "    'role': 'user',\n",
    "    'content': place_holder_prompt\n",
    "  },\n",
    "])\n",
    "print(place_holder_response.message.content)"
   ],
   "metadata": {
    "collapsed": false,
    "ExecuteTime": {
     "end_time": "2025-03-11T23:05:06.724771Z",
     "start_time": "2025-03-11T23:04:55.756991Z"
    }
   },
   "id": "45f80c8526684cdc",
   "execution_count": 83
  },
  {
   "cell_type": "code",
   "outputs": [
    {
     "data": {
      "text/plain": "'\\n{\\n    \"Elias Strauss\": \"Owner/Employee\",\\n    \"Visa card ending in 3456\": \"Payment Method/Credit Card Info\",\\n    \"$233.79\": \"Transaction Amount/Price Paid\",\\n    \"INV-2025-00458\": \"Invoice ID/SKU Number\",\\n    \"elias.strauss@gmail.com\": \"Email Address/UserID@Domain.Com\",\\n    \"WebServices Inc.\": \"Company/Organization Name\",\\n    \"March 11, 2025\": \"Date of Event/Event Date\",\\n    \"March 2026\": \"Future Scheduled Date/Future Plan/Schedule\",\\n    \"(800) 555-0199\": \"Phone Number/TelNumber\"\\n}\\n'"
     },
     "execution_count": 104,
     "metadata": {},
     "output_type": "execute_result"
    }
   ],
   "source": [
    "place_holders = str(place_holder_response.message.content)\n",
    "if place_holders[:7] == '```json' and place_holders[-3:] == '```':\n",
    "  place_holders = place_holders[7:-3]\n",
    "place_holders"
   ],
   "metadata": {
    "collapsed": false,
    "ExecuteTime": {
     "end_time": "2025-03-11T23:14:56.295239Z",
     "start_time": "2025-03-11T23:14:56.291372Z"
    }
   },
   "id": "8f134ba4d48eb16c",
   "execution_count": 104
  },
  {
   "cell_type": "code",
   "outputs": [],
   "source": [
    "import json\n",
    "import re"
   ],
   "metadata": {
    "collapsed": false,
    "ExecuteTime": {
     "end_time": "2025-03-11T23:19:41.725244Z",
     "start_time": "2025-03-11T23:19:41.722959Z"
    }
   },
   "id": "26601bd01b6d0dd2",
   "execution_count": 108
  },
  {
   "cell_type": "code",
   "outputs": [
    {
     "data": {
      "text/plain": "{'Elias Strauss': 'Owner/Employee',\n 'Visa card ending in 3456': 'Payment Method/Credit Card Info',\n '$233.79': 'Transaction Amount/Price Paid',\n 'INV-2025-00458': 'Invoice ID/SKU Number',\n 'elias.strauss@gmail.com': 'Email Address/UserID@Domain.Com',\n 'WebServices Inc.': 'Company/Organization Name',\n 'March 11, 2025': 'Date of Event/Event Date',\n 'March 2026': 'Future Scheduled Date/Future Plan/Schedule',\n '(800) 555-0199': 'Phone Number/TelNumber'}"
     },
     "execution_count": 109,
     "metadata": {},
     "output_type": "execute_result"
    }
   ],
   "source": [
    "place_holders_dict = json.loads(place_holders)\n",
    "place_holders_dict"
   ],
   "metadata": {
    "collapsed": false,
    "ExecuteTime": {
     "end_time": "2025-03-11T23:19:42.536557Z",
     "start_time": "2025-03-11T23:19:42.532945Z"
    }
   },
   "id": "2be615079034db31",
   "execution_count": 109
  },
  {
   "cell_type": "code",
   "outputs": [],
   "source": [
    "pattern = re.compile(\"|\".join(map(re.escape, place_holders_dict.keys())))\n",
    "new_text =  pattern.sub(lambda match: place_holders_dict[match.group(0)], text)"
   ],
   "metadata": {
    "collapsed": false,
    "ExecuteTime": {
     "end_time": "2025-03-11T23:19:44.904482Z",
     "start_time": "2025-03-11T23:19:44.901343Z"
    }
   },
   "id": "7d7779f8ffe89da7",
   "execution_count": 110
  },
  {
   "cell_type": "code",
   "outputs": [
    {
     "data": {
      "text/plain": "'Owner/Employee, a 24-year-old software engineer from Springfield, IL, recently purchased a one-year web hosting plan along with a domain registration and an SSL certificate for his new online portfolio. Using his Payment Method/Credit Card Info, he made a payment of Transaction Amount/Price Paid on Date of Event/Event Date. The invoice, numbered Invoice ID/SKU Number, was issued by Company/Organization Name, confirming the transaction. Elias received a confirmation email at Email Address/UserID@Domain.Com and was advised that his services would be active until Future Scheduled Date/Future Plan/Schedule. If he has any concerns, he can contact customer support at Phone Number/TelNumber.'"
     },
     "execution_count": 111,
     "metadata": {},
     "output_type": "execute_result"
    }
   ],
   "source": [
    "new_text"
   ],
   "metadata": {
    "collapsed": false,
    "ExecuteTime": {
     "end_time": "2025-03-11T23:19:45.712381Z",
     "start_time": "2025-03-11T23:19:45.709033Z"
    }
   },
   "id": "5c69d304cee39517",
   "execution_count": 111
  },
  {
   "cell_type": "code",
   "outputs": [
    {
     "data": {
      "text/plain": "True"
     },
     "execution_count": 103,
     "metadata": {},
     "output_type": "execute_result"
    }
   ],
   "source": [
    "place_holders[:7] == '```json'"
   ],
   "metadata": {
    "collapsed": false,
    "ExecuteTime": {
     "end_time": "2025-03-11T23:14:47.279091Z",
     "start_time": "2025-03-11T23:14:47.275155Z"
    }
   },
   "id": "3571922f69e2d404",
   "execution_count": 103
  },
  {
   "cell_type": "code",
   "outputs": [],
   "source": [],
   "metadata": {
    "collapsed": false
   },
   "id": "5881e365be7bf5f6"
  }
 ],
 "metadata": {
  "kernelspec": {
   "display_name": "Python 3",
   "language": "python",
   "name": "python3"
  },
  "language_info": {
   "codemirror_mode": {
    "name": "ipython",
    "version": 2
   },
   "file_extension": ".py",
   "mimetype": "text/x-python",
   "name": "python",
   "nbconvert_exporter": "python",
   "pygments_lexer": "ipython2",
   "version": "2.7.6"
  }
 },
 "nbformat": 4,
 "nbformat_minor": 5
}
